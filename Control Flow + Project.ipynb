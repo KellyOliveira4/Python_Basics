{
 "cells": [
  {
   "cell_type": "code",
   "execution_count": 1,
   "id": "b7b24e23-ec95-4ad0-8bf4-3479ab9af6f9",
   "metadata": {},
   "outputs": [
    {
     "name": "stdout",
     "output_type": "stream",
     "text": [
      "*\n",
      "**\n",
      "***\n",
      "****\n",
      "*****\n"
     ]
    }
   ],
   "source": [
    "# Iterative Statements\n",
    "\n",
    "rows = 5\n",
    "for i in range(1, rows+1):\n",
    "    print('*' * i)"
   ]
  },
  {
   "cell_type": "code",
   "execution_count": 3,
   "id": "8166d166-fddb-47ed-ad3d-55d6f0f09254",
   "metadata": {},
   "outputs": [
    {
     "name": "stdin",
     "output_type": "stream",
     "text": [
      "Enter the number:  20\n"
     ]
    },
    {
     "name": "stdout",
     "output_type": "stream",
     "text": [
      "0 1 1 2 3 5 8 13 21 34 55 89 144 233 377 610 987 1597 2584 4181 "
     ]
    }
   ],
   "source": [
    "#WAP to print the first n of the Fibonacci series\n",
    "\n",
    "n = int(input('Enter the number: '))\n",
    "a, b = 0, 1\n",
    "\n",
    "for _ in range(n):\n",
    "    print(a, end= ' ')\n",
    "    a, b = b, a + b\n"
   ]
  },
  {
   "cell_type": "code",
   "execution_count": 5,
   "id": "7730a430-1aaf-4dba-a3c0-135f5cfec1ed",
   "metadata": {},
   "outputs": [
    {
     "name": "stdin",
     "output_type": "stream",
     "text": [
      "Enter the number:  56\n"
     ]
    },
    {
     "name": "stdout",
     "output_type": "stream",
     "text": [
      "The sum of the digits is:  11\n"
     ]
    }
   ],
   "source": [
    " # WAP to take number as an input and print the sum of its digit\n",
    "\n",
    "num = int(input('Enter the number: '))\n",
    "sum = 0\n",
    "\n",
    "while num > 0:\n",
    "    digit = num % 10\n",
    "    sum += digit\n",
    "    num //= 10\n",
    "print('The sum of the digits is: ', sum)"
   ]
  },
  {
   "cell_type": "code",
   "execution_count": 7,
   "id": "acf49f7e-4a33-40d5-b2b5-fcc87de6852d",
   "metadata": {},
   "outputs": [
    {
     "name": "stdin",
     "output_type": "stream",
     "text": [
      "Enter the number:  8523\n"
     ]
    },
    {
     "name": "stdout",
     "output_type": "stream",
     "text": [
      "The reverse order is:  3258\n"
     ]
    }
   ],
   "source": [
    "# WAP to print the reverse of a given number\n",
    "\n",
    "num = int(input('Enter the number: '))\n",
    "reverse = 0\n",
    "\n",
    "while num > 0:\n",
    "    digit = num % 10\n",
    "    reverse = reverse * 10 + digit\n",
    "    num //= 10\n",
    "print('The reverse order is: ', reverse)"
   ]
  },
  {
   "cell_type": "code",
   "execution_count": 11,
   "id": "d32a90ba-abb6-49d7-9652-ff86a4ae1f1e",
   "metadata": {},
   "outputs": [
    {
     "name": "stdin",
     "output_type": "stream",
     "text": [
      "Enter the first number:  2\n",
      "Enter the second number:  1\n"
     ]
    },
    {
     "name": "stdout",
     "output_type": "stream",
     "text": [
      "Result:  2.0\n"
     ]
    }
   ],
   "source": [
    "# Exception and Handling\n",
    "\n",
    "#WAP that takes two numbers as input and perform division. Handle the case where denominator is zero.\n",
    "\n",
    "try:\n",
    "    num1 = int(input('Enter the first number: '))\n",
    "    num2 = int(input('Enter the second number: '))\n",
    "    result = num1 / num2\n",
    "    print('Result: ', result)\n",
    "\n",
    "except ZeroDivisionError:\n",
    "    print('Error: Division by zero is not allowed')\n",
    "\n",
    "except ValueError:\n",
    "    print('Invalid input')"
   ]
  },
  {
   "cell_type": "code",
   "execution_count": null,
   "id": "ca99502a-8438-4280-9b74-d92d5dfb1ad4",
   "metadata": {},
   "outputs": [
    {
     "name": "stdout",
     "output_type": "stream",
     "text": [
      "Welcome to the ATM Simulator! \n"
     ]
    },
    {
     "name": "stdin",
     "output_type": "stream",
     "text": [
      "Enter the 4-digit pin:  1234\n"
     ]
    },
    {
     "name": "stdout",
     "output_type": "stream",
     "text": [
      "Authetication Successfull!\n",
      "\n",
      "ATM Menu: \n",
      "\n",
      "Check Balance\n",
      "Deposit Money\n",
      "Withdraw Money\n",
      "Transaction History\n",
      "Change Pin\n",
      "Exit\n"
     ]
    },
    {
     "name": "stdin",
     "output_type": "stream",
     "text": [
      "\n",
      " Enter your choice:  1\n"
     ]
    },
    {
     "name": "stdout",
     "output_type": "stream",
     "text": [
      "\n",
      "Your account balance is 300000\n",
      "\n",
      "\n",
      "ATM Menu: \n",
      "\n",
      "Check Balance\n",
      "Deposit Money\n",
      "Withdraw Money\n",
      "Transaction History\n",
      "Change Pin\n",
      "Exit\n"
     ]
    },
    {
     "name": "stdin",
     "output_type": "stream",
     "text": [
      "\n",
      " Enter your choice:  2\n",
      "Enter the amount to deposit:  20\n"
     ]
    },
    {
     "name": "stdout",
     "output_type": "stream",
     "text": [
      " 20.0 has been deposited successfully!\n",
      "\n",
      "ATM Menu: \n",
      "\n",
      "Check Balance\n",
      "Deposit Money\n",
      "Withdraw Money\n",
      "Transaction History\n",
      "Change Pin\n",
      "Exit\n"
     ]
    },
    {
     "name": "stdin",
     "output_type": "stream",
     "text": [
      "\n",
      " Enter your choice:  1\n"
     ]
    },
    {
     "name": "stdout",
     "output_type": "stream",
     "text": [
      "\n",
      "Your account balance is 300020.0\n",
      "\n",
      "\n",
      "ATM Menu: \n",
      "\n",
      "Check Balance\n",
      "Deposit Money\n",
      "Withdraw Money\n",
      "Transaction History\n",
      "Change Pin\n",
      "Exit\n"
     ]
    }
   ],
   "source": [
    "# Mini Project: ATM Simulator\n",
    "\n",
    "import time\n",
    "\n",
    "# Users Accounts details with pin and balance amount\n",
    "users = {\n",
    "    '1234': {'balance': 300000, 'transactions':[]},\n",
    "    '6789': {'balance': 100000, 'transactions':[]},\n",
    "    '3456': {'balance': 400000, 'transactions':[]}\n",
    "}\n",
    "\n",
    "#Initialize blocker users\n",
    "blocked_users = set()\n",
    "\n",
    "# Functions for authentication of users\n",
    "def authentication():\n",
    "    attempts = 3\n",
    "    while attempts > 0:\n",
    "        pin = input('Enter the 4-digit pin: ')\n",
    "        if pin in blocked_users:\n",
    "            print('Your card is blocked. Contact your  bank for more details!')\n",
    "            return None\n",
    "        if pin in users:\n",
    "            print('Authetication Successfull!')\n",
    "            return pin\n",
    "        else:\n",
    "            attempts -= 1\n",
    "            print(f'Incorrect Pin. Attempts left {attempts}\\n')\n",
    "\n",
    "    print(f'\\nToo many attempts! Your card has been blocked. \\n')\n",
    "    blocked_users.add(pin)\n",
    "    return None\n",
    "\n",
    "# Function to display the menu\n",
    "def menu():\n",
    "    print('\\nATM Menu: \\n')\n",
    "    print('Check Balance')\n",
    "    print('Deposit Money')\n",
    "    print('Withdraw Money')\n",
    "    print('Transaction History')\n",
    "    print('Change Pin')\n",
    "    print('Exit')\n",
    "\n",
    "# Functions to check balance\n",
    "def check_balance(user_pin):\n",
    "    print(f'\\nYour account balance is {users[user_pin]['balance']}\\n')\n",
    "\n",
    "# Function to deposit Money\n",
    "def deposit_money(user_pin):\n",
    "    amount = float(input('Enter the amount to deposit: '))\n",
    "    if amount > 0:\n",
    "        users[user_pin]['balance'] += amount\n",
    "        users[user_pin]['transactions'].append(f'Deposited Amount: {amount}')\n",
    "        print(f' {amount} has been deposited successfully!')\n",
    "    else:\n",
    "        print('Invalid amount. Try again!')\n",
    "\n",
    "# Function to withdraw money\n",
    "def withdraw_money(user_pin):\n",
    "    amount = float(input('Enter the withdraw amount: '))\n",
    "    if amount > 0 and amount <= users[user_pin]['balance']:\n",
    "        users[user_pin]['balance'] -= amount\n",
    "        users[user_pin]['transactions'].append(f'Withdraw: {amount}')\n",
    "        print(f' {amount} has been withdraw successfully!')\n",
    "    elif amount > users[user_pin]['balance']:\n",
    "        print('Insufficient balance. Try again!')\n",
    "    else:\n",
    "        print('Invalid amount. Try again!')\n",
    "\n",
    "#Functions to show transaction details\n",
    "def transaction_history(user_pin):\n",
    "    print('\\nTransaction History: ')\n",
    "    if users[user_pin]['transactions']:\n",
    "        for i, transaction in enumerate(users[user_pin]['transactions'], 1):\n",
    "            print(f'{i} {transaction}')\n",
    "    else:\n",
    "        print('No Transaction found!')\n",
    "    print()\n",
    "\n",
    "# Funtion to change pin\n",
    "def change_pin(user_pin):\n",
    "    new_pin = input('\\n Enter the new pin: ')\n",
    "    if new_pin.isdigit() and len(new_pin) == 4 and new_pin not in users:\n",
    "        users[new_pin] = users.pop(user_pin)\n",
    "        print('Pin changed successfully!')\n",
    "    else:\n",
    "        print('Invalid or already exists. Try again!')\n",
    "        return user_pin\n",
    "\n",
    "# Main function to run the app\n",
    "def atm_simulator():\n",
    "    print('Welcome to the ATM Simulator! ')\n",
    "\n",
    "    user_pin = authentication()\n",
    "    if not user_pin:\n",
    "        return\n",
    "\n",
    "\n",
    "    while True:\n",
    "        menu()\n",
    "        choice = input('\\n Enter your choice: ')\n",
    "\n",
    "        if choice == '1':\n",
    "            check_balance(user_pin)\n",
    "        elif choice == '2':\n",
    "            deposit_money(user_pin)\n",
    "        elif choice == '3':\n",
    "            withdraw_money(user_pin)\n",
    "        elif choice == '4':\n",
    "            transaction_history(user_pin)\n",
    "        elif choice == '5':\n",
    "            user_pin = change_pin(user_pin)\n",
    "        elif choice == '6':\n",
    "            print('Thank you for using our ATM!')\n",
    "            break\n",
    "        else:\n",
    "            print('Invalid choice, please select a valid option. ')\n",
    "\n",
    "        time.sleep(1)\n",
    "\n",
    "\n",
    "#run the application\n",
    "atm_simulator()\n",
    "\n",
    "\n",
    "\n",
    "\n",
    "\n",
    "\n",
    "\n",
    "\n",
    "\n",
    "\n",
    "\n",
    "\n",
    "\n",
    "\n",
    "    "
   ]
  },
  {
   "cell_type": "code",
   "execution_count": null,
   "id": "3fea9df5-30ad-4611-9a4e-d2db09581c9c",
   "metadata": {},
   "outputs": [],
   "source": []
  }
 ],
 "metadata": {
  "kernelspec": {
   "display_name": "Python [conda env:base] *",
   "language": "python",
   "name": "conda-base-py"
  },
  "language_info": {
   "codemirror_mode": {
    "name": "ipython",
    "version": 3
   },
   "file_extension": ".py",
   "mimetype": "text/x-python",
   "name": "python",
   "nbconvert_exporter": "python",
   "pygments_lexer": "ipython3",
   "version": "3.12.7"
  }
 },
 "nbformat": 4,
 "nbformat_minor": 5
}
