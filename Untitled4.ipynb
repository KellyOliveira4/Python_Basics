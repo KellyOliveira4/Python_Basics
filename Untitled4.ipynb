{
 "cells": [
  {
   "cell_type": "code",
   "execution_count": 8,
   "id": "7c52a2c0-2c81-4606-acea-ff280b6445dc",
   "metadata": {},
   "outputs": [
    {
     "name": "stdout",
     "output_type": "stream",
     "text": [
      "You num is 556\n"
     ]
    }
   ],
   "source": [
    "num = 556\n",
    "print('You num is ' + str(num))"
   ]
  },
  {
   "cell_type": "code",
   "execution_count": 10,
   "id": "5efc3495-16f9-490f-9c90-1640af1fedc9",
   "metadata": {},
   "outputs": [
    {
     "name": "stdout",
     "output_type": "stream",
     "text": [
      "Hello World\n"
     ]
    }
   ],
   "source": [
    "print(\"Hello World\")"
   ]
  },
  {
   "cell_type": "code",
   "execution_count": 24,
   "id": "390da913-f756-41be-862a-926081d642e8",
   "metadata": {},
   "outputs": [
    {
     "name": "stdout",
     "output_type": "stream",
     "text": [
      "The sum of 5 + 7 is 12\n"
     ]
    }
   ],
   "source": [
    "a=5\n",
    "b=7\n",
    "print(\"The sum of \" + str(a) +  \" + \" + str(b) + \" is\",(a+b))"
   ]
  },
  {
   "cell_type": "code",
   "execution_count": 2,
   "id": "281e15b8-1193-4499-a4ef-896f5ba480c1",
   "metadata": {},
   "outputs": [
    {
     "name": "stdout",
     "output_type": "stream",
     "text": [
      "Data Science\n"
     ]
    },
    {
     "data": {
      "text/plain": [
       "str"
      ]
     },
     "execution_count": 2,
     "metadata": {},
     "output_type": "execute_result"
    }
   ],
   "source": [
    "a = 'Data Science'\n",
    "print(a)\n",
    "type(a)"
   ]
  },
  {
   "cell_type": "code",
   "execution_count": 4,
   "id": "1daac1ba-2c43-465c-8194-3ca02595e804",
   "metadata": {},
   "outputs": [
    {
     "data": {
      "text/plain": [
       "bool"
      ]
     },
     "execution_count": 4,
     "metadata": {},
     "output_type": "execute_result"
    }
   ],
   "source": [
    "b = True\n",
    "type(b)"
   ]
  },
  {
   "cell_type": "code",
   "execution_count": 6,
   "id": "7a142e23-a77a-4117-b68b-cde0b026227d",
   "metadata": {},
   "outputs": [
    {
     "data": {
      "text/plain": [
       "int"
      ]
     },
     "execution_count": 6,
     "metadata": {},
     "output_type": "execute_result"
    }
   ],
   "source": [
    "c = 3\n",
    "type(c)"
   ]
  },
  {
   "cell_type": "code",
   "execution_count": 8,
   "id": "378a123a-6fff-48c4-9459-4d4dacbdb7a8",
   "metadata": {},
   "outputs": [
    {
     "data": {
      "text/plain": [
       "float"
      ]
     },
     "execution_count": 8,
     "metadata": {},
     "output_type": "execute_result"
    }
   ],
   "source": [
    "d = 99.7\n",
    "type(d)"
   ]
  },
  {
   "cell_type": "code",
   "execution_count": 10,
   "id": "11a93635-ddba-48db-a7e7-ad3c5057ee75",
   "metadata": {},
   "outputs": [
    {
     "data": {
      "text/plain": [
       "14.6"
      ]
     },
     "execution_count": 10,
     "metadata": {},
     "output_type": "execute_result"
    }
   ],
   "source": [
    "True + 5 + 8.6"
   ]
  },
  {
   "cell_type": "code",
   "execution_count": 12,
   "id": "82d99745-ce52-4691-8fec-2e429a21a43d",
   "metadata": {},
   "outputs": [
    {
     "data": {
      "text/plain": [
       "2"
      ]
     },
     "execution_count": 12,
     "metadata": {},
     "output_type": "execute_result"
    }
   ],
   "source": [
    "False + 2"
   ]
  },
  {
   "cell_type": "code",
   "execution_count": 14,
   "id": "c30c13a5-b17b-4398-bf48-a2c30b1677cb",
   "metadata": {},
   "outputs": [
    {
     "data": {
      "text/plain": [
       "15"
      ]
     },
     "execution_count": 14,
     "metadata": {},
     "output_type": "execute_result"
    }
   ],
   "source": [
    "int(11.3) + 4"
   ]
  },
  {
   "cell_type": "code",
   "execution_count": 16,
   "id": "cd698209-914f-409b-8897-23accf59edf0",
   "metadata": {},
   "outputs": [
    {
     "data": {
      "text/plain": [
       "11"
      ]
     },
     "execution_count": 16,
     "metadata": {},
     "output_type": "execute_result"
    }
   ],
   "source": [
    "int(4.5) + 7"
   ]
  },
  {
   "cell_type": "code",
   "execution_count": 18,
   "id": "223521d8-3030-406e-9486-cc65383affc2",
   "metadata": {},
   "outputs": [
    {
     "data": {
      "text/plain": [
       "8"
      ]
     },
     "execution_count": 18,
     "metadata": {},
     "output_type": "execute_result"
    }
   ],
   "source": [
    "int(5.6) + 3"
   ]
  },
  {
   "cell_type": "code",
   "execution_count": 20,
   "id": "c7042ebd-3350-4ced-8ba7-e13bb972e99b",
   "metadata": {},
   "outputs": [
    {
     "data": {
      "text/plain": [
       "7"
      ]
     },
     "execution_count": 20,
     "metadata": {},
     "output_type": "execute_result"
    }
   ],
   "source": [
    "int(5.9) + 2"
   ]
  },
  {
   "cell_type": "code",
   "execution_count": 22,
   "id": "be42ce06-a671-4968-a358-da7c638f34f2",
   "metadata": {},
   "outputs": [
    {
     "data": {
      "text/plain": [
       "False"
      ]
     },
     "execution_count": 22,
     "metadata": {},
     "output_type": "execute_result"
    }
   ],
   "source": [
    "bool(0)"
   ]
  },
  {
   "cell_type": "code",
   "execution_count": 24,
   "id": "befa974d-fcfa-418c-9c91-cddb81a350c6",
   "metadata": {},
   "outputs": [
    {
     "data": {
      "text/plain": [
       "True"
      ]
     },
     "execution_count": 24,
     "metadata": {},
     "output_type": "execute_result"
    }
   ],
   "source": [
    "bool(1)"
   ]
  },
  {
   "cell_type": "code",
   "execution_count": 26,
   "id": "3724587e-4fb7-44a3-ad1a-264f1fe29a84",
   "metadata": {},
   "outputs": [
    {
     "data": {
      "text/plain": [
       "True"
      ]
     },
     "execution_count": 26,
     "metadata": {},
     "output_type": "execute_result"
    }
   ],
   "source": [
    "bool(4)"
   ]
  },
  {
   "cell_type": "code",
   "execution_count": 30,
   "id": "daa4fada-c7fc-40cd-b2d7-1031d17f02a4",
   "metadata": {},
   "outputs": [
    {
     "data": {
      "text/plain": [
       "True"
      ]
     },
     "execution_count": 30,
     "metadata": {},
     "output_type": "execute_result"
    }
   ],
   "source": [
    "bool(3)"
   ]
  },
  {
   "cell_type": "code",
   "execution_count": 32,
   "id": "f0cfd980-0fb2-4277-b7ad-6d34e783fc03",
   "metadata": {},
   "outputs": [
    {
     "name": "stdout",
     "output_type": "stream",
     "text": [
      "<class 'int'>\n",
      "<class 'float'>\n",
      "<class 'str'>\n"
     ]
    }
   ],
   "source": [
    "a = 3\n",
    "b = 5.4\n",
    "c = 'Kellynha'\n",
    "print(type(a))\n",
    "print(type(b))\n",
    "print(type(c))"
   ]
  },
  {
   "cell_type": "code",
   "execution_count": 34,
   "id": "1e3ec788-e150-4a4c-a432-e1ab28496e2b",
   "metadata": {},
   "outputs": [
    {
     "data": {
      "text/plain": [
       "123"
      ]
     },
     "execution_count": 34,
     "metadata": {},
     "output_type": "execute_result"
    }
   ],
   "source": [
    "int(123.54)"
   ]
  },
  {
   "cell_type": "code",
   "execution_count": 36,
   "id": "b3b64599-4ee1-4a20-a11c-7532ccc87181",
   "metadata": {},
   "outputs": [
    {
     "ename": "TypeError",
     "evalue": "int() argument must be a string, a bytes-like object or a real number, not 'complex'",
     "output_type": "error",
     "traceback": [
      "\u001b[1;31m---------------------------------------------------------------------------\u001b[0m",
      "\u001b[1;31mTypeError\u001b[0m                                 Traceback (most recent call last)",
      "Cell \u001b[1;32mIn[36], line 1\u001b[0m\n\u001b[1;32m----> 1\u001b[0m \u001b[38;5;28mint\u001b[39m(\u001b[38;5;241m10\u001b[39m\u001b[38;5;241m+\u001b[39m\u001b[38;5;241m5\u001b[39mj)\n",
      "\u001b[1;31mTypeError\u001b[0m: int() argument must be a string, a bytes-like object or a real number, not 'complex'"
     ]
    }
   ],
   "source": [
    "int(10+5j)"
   ]
  },
  {
   "cell_type": "code",
   "execution_count": 38,
   "id": "adf0f371-c232-4de0-a947-1ff717eefebe",
   "metadata": {},
   "outputs": [
    {
     "data": {
      "text/plain": [
       "1"
      ]
     },
     "execution_count": 38,
     "metadata": {},
     "output_type": "execute_result"
    }
   ],
   "source": [
    "int(1)"
   ]
  },
  {
   "cell_type": "code",
   "execution_count": 40,
   "id": "cb0e5d9d-768b-4a7e-87ba-447093ef3589",
   "metadata": {},
   "outputs": [
    {
     "data": {
      "text/plain": [
       "0"
      ]
     },
     "execution_count": 40,
     "metadata": {},
     "output_type": "execute_result"
    }
   ],
   "source": [
    "int(0)"
   ]
  },
  {
   "cell_type": "code",
   "execution_count": 42,
   "id": "5512fc35-4886-449b-947e-7c4703878041",
   "metadata": {},
   "outputs": [
    {
     "data": {
      "text/plain": [
       "10"
      ]
     },
     "execution_count": 42,
     "metadata": {},
     "output_type": "execute_result"
    }
   ],
   "source": [
    "int(\"10\")"
   ]
  },
  {
   "cell_type": "code",
   "execution_count": 44,
   "id": "cfa863a8-6204-4ea7-b1b2-088075040558",
   "metadata": {},
   "outputs": [
    {
     "ename": "ValueError",
     "evalue": "invalid literal for int() with base 10: '10.2'",
     "output_type": "error",
     "traceback": [
      "\u001b[1;31m---------------------------------------------------------------------------\u001b[0m",
      "\u001b[1;31mValueError\u001b[0m                                Traceback (most recent call last)",
      "Cell \u001b[1;32mIn[44], line 1\u001b[0m\n\u001b[1;32m----> 1\u001b[0m \u001b[38;5;28mint\u001b[39m(\u001b[38;5;124m\"\u001b[39m\u001b[38;5;124m10.2\u001b[39m\u001b[38;5;124m\"\u001b[39m)\n",
      "\u001b[1;31mValueError\u001b[0m: invalid literal for int() with base 10: '10.2'"
     ]
    }
   ],
   "source": [
    "int(\"10.2\")"
   ]
  },
  {
   "cell_type": "code",
   "execution_count": 46,
   "id": "8477fbda-5d82-4136-8b2c-2c113533ec0a",
   "metadata": {},
   "outputs": [
    {
     "ename": "ValueError",
     "evalue": "invalid literal for int() with base 10: 'ten'",
     "output_type": "error",
     "traceback": [
      "\u001b[1;31m---------------------------------------------------------------------------\u001b[0m",
      "\u001b[1;31mValueError\u001b[0m                                Traceback (most recent call last)",
      "Cell \u001b[1;32mIn[46], line 1\u001b[0m\n\u001b[1;32m----> 1\u001b[0m \u001b[38;5;28mint\u001b[39m(\u001b[38;5;124m\"\u001b[39m\u001b[38;5;124mten\u001b[39m\u001b[38;5;124m\"\u001b[39m)\n",
      "\u001b[1;31mValueError\u001b[0m: invalid literal for int() with base 10: 'ten'"
     ]
    }
   ],
   "source": [
    "int(\"ten\")"
   ]
  },
  {
   "cell_type": "code",
   "execution_count": 48,
   "id": "7acad634-99a3-4479-a940-edcb863cd1da",
   "metadata": {},
   "outputs": [
    {
     "ename": "ValueError",
     "evalue": "invalid literal for int() with base 10: '10ob'",
     "output_type": "error",
     "traceback": [
      "\u001b[1;31m---------------------------------------------------------------------------\u001b[0m",
      "\u001b[1;31mValueError\u001b[0m                                Traceback (most recent call last)",
      "Cell \u001b[1;32mIn[48], line 1\u001b[0m\n\u001b[1;32m----> 1\u001b[0m \u001b[38;5;28mint\u001b[39m(\u001b[38;5;124m\"\u001b[39m\u001b[38;5;124m10ob\u001b[39m\u001b[38;5;124m\"\u001b[39m)\n",
      "\u001b[1;31mValueError\u001b[0m: invalid literal for int() with base 10: '10ob'"
     ]
    }
   ],
   "source": [
    "int(\"10ob\")"
   ]
  },
  {
   "cell_type": "code",
   "execution_count": 50,
   "id": "1544a6b2-b2bd-4668-b9ce-f1aac00560c6",
   "metadata": {},
   "outputs": [
    {
     "data": {
      "text/plain": [
       "10.0"
      ]
     },
     "execution_count": 50,
     "metadata": {},
     "output_type": "execute_result"
    }
   ],
   "source": [
    "float(10)"
   ]
  },
  {
   "cell_type": "code",
   "execution_count": 54,
   "id": "17de7e72-f063-40ef-8e70-c8516b836e28",
   "metadata": {},
   "outputs": [
    {
     "ename": "TypeError",
     "evalue": "float() argument must be a string or a real number, not 'complex'",
     "output_type": "error",
     "traceback": [
      "\u001b[1;31m---------------------------------------------------------------------------\u001b[0m",
      "\u001b[1;31mTypeError\u001b[0m                                 Traceback (most recent call last)",
      "Cell \u001b[1;32mIn[54], line 1\u001b[0m\n\u001b[1;32m----> 1\u001b[0m \u001b[38;5;28mfloat\u001b[39m(\u001b[38;5;241m10\u001b[39m\u001b[38;5;241m+\u001b[39m\u001b[38;5;241m5\u001b[39mj)\n",
      "\u001b[1;31mTypeError\u001b[0m: float() argument must be a string or a real number, not 'complex'"
     ]
    }
   ],
   "source": [
    "float(10+5j)"
   ]
  },
  {
   "cell_type": "code",
   "execution_count": 56,
   "id": "34f5d669-1efe-4c46-81e8-cbf833e09fef",
   "metadata": {},
   "outputs": [
    {
     "data": {
      "text/plain": [
       "1.0"
      ]
     },
     "execution_count": 56,
     "metadata": {},
     "output_type": "execute_result"
    }
   ],
   "source": [
    "float(True)"
   ]
  },
  {
   "cell_type": "code",
   "execution_count": 58,
   "id": "6508c5fa-a016-41f9-a140-5633898dfbb7",
   "metadata": {},
   "outputs": [
    {
     "data": {
      "text/plain": [
       "0.0"
      ]
     },
     "execution_count": 58,
     "metadata": {},
     "output_type": "execute_result"
    }
   ],
   "source": [
    "float(False)"
   ]
  },
  {
   "cell_type": "code",
   "execution_count": 60,
   "id": "9219bec2-5604-4396-a282-76c6943fee91",
   "metadata": {},
   "outputs": [
    {
     "data": {
      "text/plain": [
       "9.0"
      ]
     },
     "execution_count": 60,
     "metadata": {},
     "output_type": "execute_result"
    }
   ],
   "source": [
    "float(\"9\")"
   ]
  },
  {
   "cell_type": "code",
   "execution_count": 62,
   "id": "c2950f31-779b-49f2-bd61-6a3dbaede9d3",
   "metadata": {},
   "outputs": [
    {
     "data": {
      "text/plain": [
       "3.5"
      ]
     },
     "execution_count": 62,
     "metadata": {},
     "output_type": "execute_result"
    }
   ],
   "source": [
    "float(\"3.5\")"
   ]
  },
  {
   "cell_type": "code",
   "execution_count": 64,
   "id": "42dbc58b-97c3-4e4a-959f-44523300922f",
   "metadata": {},
   "outputs": [
    {
     "ename": "ValueError",
     "evalue": "could not convert string to float: 'ten'",
     "output_type": "error",
     "traceback": [
      "\u001b[1;31m---------------------------------------------------------------------------\u001b[0m",
      "\u001b[1;31mValueError\u001b[0m                                Traceback (most recent call last)",
      "Cell \u001b[1;32mIn[64], line 1\u001b[0m\n\u001b[1;32m----> 1\u001b[0m \u001b[38;5;28mfloat\u001b[39m(\u001b[38;5;124m\"\u001b[39m\u001b[38;5;124mten\u001b[39m\u001b[38;5;124m\"\u001b[39m)\n",
      "\u001b[1;31mValueError\u001b[0m: could not convert string to float: 'ten'"
     ]
    }
   ],
   "source": [
    "float(\"ten\")"
   ]
  },
  {
   "cell_type": "code",
   "execution_count": 66,
   "id": "e36d4018-1107-4a14-9663-d6fee61a329a",
   "metadata": {},
   "outputs": [
    {
     "ename": "ValueError",
     "evalue": "could not convert string to float: '0B2525'",
     "output_type": "error",
     "traceback": [
      "\u001b[1;31m---------------------------------------------------------------------------\u001b[0m",
      "\u001b[1;31mValueError\u001b[0m                                Traceback (most recent call last)",
      "Cell \u001b[1;32mIn[66], line 1\u001b[0m\n\u001b[1;32m----> 1\u001b[0m \u001b[38;5;28mfloat\u001b[39m(\u001b[38;5;124m\"\u001b[39m\u001b[38;5;124m0B2525\u001b[39m\u001b[38;5;124m\"\u001b[39m)\n",
      "\u001b[1;31mValueError\u001b[0m: could not convert string to float: '0B2525'"
     ]
    }
   ],
   "source": [
    "float(\"0B2525\")"
   ]
  },
  {
   "cell_type": "code",
   "execution_count": 68,
   "id": "c7c4acaf-f7ae-4643-955e-327da42c48c6",
   "metadata": {},
   "outputs": [
    {
     "data": {
      "text/plain": [
       "False"
      ]
     },
     "execution_count": 68,
     "metadata": {},
     "output_type": "execute_result"
    }
   ],
   "source": [
    "bool(0)"
   ]
  },
  {
   "cell_type": "code",
   "execution_count": 70,
   "id": "b95221a4-ae22-46ea-b5fa-3f2979427e72",
   "metadata": {},
   "outputs": [
    {
     "data": {
      "text/plain": [
       "True"
      ]
     },
     "execution_count": 70,
     "metadata": {},
     "output_type": "execute_result"
    }
   ],
   "source": [
    "bool(1)"
   ]
  },
  {
   "cell_type": "code",
   "execution_count": 72,
   "id": "867a597a-f88b-4ff9-8697-82136f25d875",
   "metadata": {},
   "outputs": [
    {
     "data": {
      "text/plain": [
       "True"
      ]
     },
     "execution_count": 72,
     "metadata": {},
     "output_type": "execute_result"
    }
   ],
   "source": [
    "bool(10)"
   ]
  },
  {
   "cell_type": "code",
   "execution_count": 74,
   "id": "3dae3fd6-4c3b-4e31-951e-76f8e3b55ccc",
   "metadata": {},
   "outputs": [
    {
     "data": {
      "text/plain": [
       "True"
      ]
     },
     "execution_count": 74,
     "metadata": {},
     "output_type": "execute_result"
    }
   ],
   "source": [
    "bool(10.8)"
   ]
  },
  {
   "cell_type": "code",
   "execution_count": 76,
   "id": "6633922b-c615-4980-9ea9-fe4b61db2270",
   "metadata": {},
   "outputs": [
    {
     "data": {
      "text/plain": [
       "True"
      ]
     },
     "execution_count": 76,
     "metadata": {},
     "output_type": "execute_result"
    }
   ],
   "source": [
    "bool(0.185)"
   ]
  },
  {
   "cell_type": "code",
   "execution_count": 78,
   "id": "17e5f7e1-91b1-4d4e-8711-b7f9fbeba0b1",
   "metadata": {},
   "outputs": [
    {
     "data": {
      "text/plain": [
       "False"
      ]
     },
     "execution_count": 78,
     "metadata": {},
     "output_type": "execute_result"
    }
   ],
   "source": [
    "bool(0.0)"
   ]
  },
  {
   "cell_type": "code",
   "execution_count": 80,
   "id": "8e545458-f233-4199-9950-c302e65800b6",
   "metadata": {},
   "outputs": [
    {
     "data": {
      "text/plain": [
       "True"
      ]
     },
     "execution_count": 80,
     "metadata": {},
     "output_type": "execute_result"
    }
   ],
   "source": [
    "bool(10-2j)"
   ]
  },
  {
   "cell_type": "code",
   "execution_count": 84,
   "id": "d80b871a-243a-4c4d-8da4-bc7c7d226a22",
   "metadata": {},
   "outputs": [
    {
     "data": {
      "text/plain": [
       "True"
      ]
     },
     "execution_count": 84,
     "metadata": {},
     "output_type": "execute_result"
    }
   ],
   "source": [
    "bool(0+1.6j)"
   ]
  },
  {
   "cell_type": "code",
   "execution_count": 86,
   "id": "da866961-d126-42e2-80f8-ccf81b26ccbf",
   "metadata": {},
   "outputs": [
    {
     "data": {
      "text/plain": [
       "False"
      ]
     },
     "execution_count": 86,
     "metadata": {},
     "output_type": "execute_result"
    }
   ],
   "source": [
    "bool(0+0j)"
   ]
  },
  {
   "cell_type": "code",
   "execution_count": 88,
   "id": "2f720f40-8232-423f-a5cb-45becba9d8d6",
   "metadata": {},
   "outputs": [
    {
     "data": {
      "text/plain": [
       "True"
      ]
     },
     "execution_count": 88,
     "metadata": {},
     "output_type": "execute_result"
    }
   ],
   "source": [
    "bool(\"True\")"
   ]
  },
  {
   "cell_type": "code",
   "execution_count": 90,
   "id": "08b6b45c-fcc0-4c9d-b687-e9b258dc574c",
   "metadata": {},
   "outputs": [
    {
     "data": {
      "text/plain": [
       "True"
      ]
     },
     "execution_count": 90,
     "metadata": {},
     "output_type": "execute_result"
    }
   ],
   "source": [
    "bool(\"False\")"
   ]
  },
  {
   "cell_type": "code",
   "execution_count": 92,
   "id": "581164d9-a2b1-405d-900a-8cfde32b9ff2",
   "metadata": {},
   "outputs": [
    {
     "data": {
      "text/plain": [
       "False"
      ]
     },
     "execution_count": 92,
     "metadata": {},
     "output_type": "execute_result"
    }
   ],
   "source": [
    "bool(\"\")"
   ]
  },
  {
   "cell_type": "code",
   "execution_count": 94,
   "id": "c4d0409c-0c3d-42d2-9c45-5ce16d47c255",
   "metadata": {},
   "outputs": [
    {
     "data": {
      "text/plain": [
       "'I am a Data Scientist'"
      ]
     },
     "execution_count": 94,
     "metadata": {},
     "output_type": "execute_result"
    }
   ],
   "source": [
    "a = \"I am a Data Scientist\"\n",
    "a"
   ]
  },
  {
   "cell_type": "code",
   "execution_count": 98,
   "id": "803e05c3-4b8c-46d0-977b-ca85b320efba",
   "metadata": {},
   "outputs": [
    {
     "data": {
      "text/plain": [
       "'Data'"
      ]
     },
     "execution_count": 98,
     "metadata": {},
     "output_type": "execute_result"
    }
   ],
   "source": [
    "a[7:11]"
   ]
  },
  {
   "cell_type": "code",
   "execution_count": 104,
   "id": "b86685d8-4cdd-4210-b671-62593d3ee4f7",
   "metadata": {},
   "outputs": [
    {
     "data": {
      "text/plain": [
       "'Data Scientist'"
      ]
     },
     "execution_count": 104,
     "metadata": {},
     "output_type": "execute_result"
    }
   ],
   "source": [
    "a[-14:]"
   ]
  },
  {
   "cell_type": "code",
   "execution_count": 106,
   "id": "ae498c96-687d-4645-aa27-8ca12009a51d",
   "metadata": {},
   "outputs": [
    {
     "data": {
      "text/plain": [
       "'Scientist'"
      ]
     },
     "execution_count": 106,
     "metadata": {},
     "output_type": "execute_result"
    }
   ],
   "source": [
    "a[12:]"
   ]
  },
  {
   "cell_type": "code",
   "execution_count": 108,
   "id": "bb81ebcb-ad31-4972-af59-f113f2d7e04f",
   "metadata": {},
   "outputs": [
    {
     "data": {
      "text/plain": [
       "'I am a '"
      ]
     },
     "execution_count": 108,
     "metadata": {},
     "output_type": "execute_result"
    }
   ],
   "source": [
    "a[:7]"
   ]
  },
  {
   "cell_type": "code",
   "execution_count": 118,
   "id": "fbdf8312-a6dc-40b3-85b5-76fb50a5b4f9",
   "metadata": {},
   "outputs": [
    {
     "name": "stdout",
     "output_type": "stream",
     "text": [
      "[3, 4, 5, 6]\n",
      "[2, 3, 4, 5, 6, 7, 8, 9, 10]\n",
      "[1, 2, 3, 4, 5]\n",
      "[1, 4, 7, 10]\n"
     ]
    }
   ],
   "source": [
    "my_list = [1,2,3,4,5,6,7,8,9,10]\n",
    "\n",
    "slice_1 = my_list[2:6]\n",
    "print(slice_1)\n",
    "\n",
    "slice_2 = my_list[1:]\n",
    "print(slice_2)\n",
    "\n",
    "slice_3 = my_list[:5]\n",
    "print(slice_3)\n",
    "\n",
    "slice_4 = my_list[::3]\n",
    "print(slice_4)"
   ]
  },
  {
   "cell_type": "code",
   "execution_count": 10,
   "id": "98d4f3a8-477f-4403-840c-a0b87575e4bb",
   "metadata": {},
   "outputs": [
    {
     "name": "stdout",
     "output_type": "stream",
     "text": [
      "Hello, World!\n",
      "World!\n",
      "Hello\n",
      "Hl r!\n"
     ]
    }
   ],
   "source": [
    "#Slicing a string\n",
    "my_string = \"Hello, World!\"\n",
    "print(my_string)\n",
    "\n",
    "slice_5 = my_string[7:]\n",
    "print(slice_5)\n",
    "\n",
    "slice_6 = my_string[:5]\n",
    "print(slice_6)\n",
    "\n",
    "slice_7 = my_string[::3]\n",
    "print(slice_7)"
   ]
  },
  {
   "cell_type": "code",
   "execution_count": 20,
   "id": "9b76973c-6b40-4e7a-b7c0-f150dbffa9f0",
   "metadata": {},
   "outputs": [
    {
     "name": "stdout",
     "output_type": "stream",
     "text": [
      "[9, 10]\n",
      "[1, 2, 3, 4, 5]\n",
      "[10, 8, 6, 4, 2]\n"
     ]
    }
   ],
   "source": [
    "my_list = [1,2,3,4,5,6,7,8,9,10]\n",
    "\n",
    "slice_8 = my_list[-2:]\n",
    "print(slice_8)\n",
    "\n",
    "slice_9 = my_list[:-5]\n",
    "print(slice_9)\n",
    "\n",
    "slice_10 = my_list[::-2]\n",
    "print(slice_10)"
   ]
  },
  {
   "cell_type": "code",
   "execution_count": 22,
   "id": "10b04169-b66b-481b-816a-c1ac64e87df5",
   "metadata": {},
   "outputs": [
    {
     "name": "stdout",
     "output_type": "stream",
     "text": [
      "14\n",
      "6\n",
      "40\n",
      "10000\n",
      "2.5\n",
      "2\n"
     ]
    }
   ],
   "source": [
    "print(10 + 4) #add\n",
    "print(10 - 4) #subtract\n",
    "print(10 * 4) #multiple\n",
    "print(10 ** 4) #exponent\n",
    "print(10 / 4) #divide\n",
    "print(10 % 4) #modulo - remainder"
   ]
  },
  {
   "cell_type": "code",
   "execution_count": 24,
   "id": "54f3a8f5-110e-4013-be76-98fd9f85e1ee",
   "metadata": {},
   "outputs": [
    {
     "name": "stdout",
     "output_type": "stream",
     "text": [
      "True\n",
      "True\n",
      "False\n",
      "True\n"
     ]
    }
   ],
   "source": [
    "#comparisons - boolean operations\n",
    "print(5>3) \n",
    "print(5>=3) \n",
    "print(5!=5) \n",
    "print(5==5) "
   ]
  },
  {
   "cell_type": "code",
   "execution_count": 46,
   "id": "dd983e9e-cc24-4fba-ac3b-c78d68dc8609",
   "metadata": {},
   "outputs": [
    {
     "name": "stdout",
     "output_type": "stream",
     "text": [
      "Both a and b are greater than 0\n",
      "Either c or d are greater than 0\n",
      "e is True\n"
     ]
    }
   ],
   "source": [
    "# logical and operator\n",
    "a=10\n",
    "b=20\n",
    "if a>0 and b>0:\n",
    "    print(\"Both a and b are greater than 0\")\n",
    "\n",
    "# logical or operator\n",
    "c=10\n",
    "d=-5\n",
    "if a>0 and b>0:\n",
    "    print(\"Either c or d are greater than 0\")\n",
    "\n",
    "# logical and operator\n",
    "e=True\n",
    "if not e:\n",
    "    print(\"e is False\")\n",
    "else:\n",
    "    print(\"e is True\")"
   ]
  },
  {
   "cell_type": "code",
   "execution_count": 58,
   "id": "a47babd0-4a86-4b4c-8355-64ae6f3ca938",
   "metadata": {},
   "outputs": [
    {
     "name": "stdout",
     "output_type": "stream",
     "text": [
      "14\n",
      "3\n",
      "20\n",
      "2.0\n",
      "1\n",
      "100\n",
      "1\n"
     ]
    }
   ],
   "source": [
    "# Arithmetic  operatiosn\n",
    "x = 10 + 4\n",
    "print(x)\n",
    "\n",
    "y = 10 - 7\n",
    "print(y)\n",
    "\n",
    "z = 10 * 2\n",
    "print(z)\n",
    "\n",
    "w = 10 / 5\n",
    "print(w)\n",
    "\n",
    "mod = 10 % 3\n",
    "print(mod)\n",
    "\n",
    "exp = 10 ** 2\n",
    "print(exp)\n",
    "\n",
    "floor_div = 10 // 6\n",
    "print(floor_div)"
   ]
  },
  {
   "cell_type": "code",
   "execution_count": 64,
   "id": "f9ed0e6a-1314-49da-959a-04ec78df91e9",
   "metadata": {},
   "outputs": [
    {
     "name": "stdout",
     "output_type": "stream",
     "text": [
      "7\n",
      "1\n",
      "25\n",
      "2.5\n",
      "1\n",
      "125\n",
      "2\n"
     ]
    }
   ],
   "source": [
    "# Assignment operators\n",
    "a = 5\n",
    "a += 2\n",
    "print(a)\n",
    "\n",
    "b = 5\n",
    "b -= 4\n",
    "print(b)\n",
    "\n",
    "c = 5\n",
    "c *= 5\n",
    "print(c)\n",
    "\n",
    "d = 5\n",
    "d /= 2\n",
    "print(d)\n",
    "\n",
    "e = 5\n",
    "e %= 2\n",
    "print(e)\n",
    "\n",
    "f = 5\n",
    "f **= 3\n",
    "print(f)\n",
    "\n",
    "g = 5\n",
    "g //= 2\n",
    "print(g)"
   ]
  },
  {
   "cell_type": "code",
   "execution_count": 66,
   "id": "c83dad87-86ac-41de-9b6b-794195e7756e",
   "metadata": {},
   "outputs": [
    {
     "name": "stdout",
     "output_type": "stream",
     "text": [
      "False\n",
      "True\n",
      "False\n",
      "True\n",
      "True\n",
      "False\n"
     ]
    }
   ],
   "source": [
    "# Comparison operators\n",
    "x = 9\n",
    "y = 10\n",
    "\n",
    "print(x == y)\n",
    "\n",
    "print(x != y)\n",
    "\n",
    "print(x > y)\n",
    "\n",
    "print(x < y)\n",
    "\n",
    "print(x <= y)\n",
    "\n",
    "print(x >= y)"
   ]
  },
  {
   "cell_type": "code",
   "execution_count": 68,
   "id": "af72b6ea-46cb-4a29-ac49-56cdb5f68ccc",
   "metadata": {},
   "outputs": [
    {
     "name": "stdout",
     "output_type": "stream",
     "text": [
      "False\n",
      "True\n",
      "False\n"
     ]
    }
   ],
   "source": [
    "# Logical operators\n",
    "a = True\n",
    "v = False\n",
    "print(a and v)\n",
    "\n",
    "print(a or v)\n",
    "\n",
    "print(not a)"
   ]
  },
  {
   "cell_type": "code",
   "execution_count": 70,
   "id": "6fe1f0d3-4fc9-4eae-a870-c9b6ff2e6c53",
   "metadata": {},
   "outputs": [
    {
     "name": "stdout",
     "output_type": "stream",
     "text": [
      "2\n",
      "15\n",
      "13\n",
      "-11\n",
      "40\n",
      "2\n"
     ]
    }
   ],
   "source": [
    "# Bitwise operators\n",
    "x = 10 #1010 in binary\n",
    "y = 7 #0111 in binary\n",
    "\n",
    "print(x & y) #output 0010 in binary\n",
    "\n",
    "print(x | y) #output 1111 in binary\n",
    "\n",
    "print(x ^ y) #output 1101 in binary\n",
    "\n",
    "print(~x) #output -11 (two's complement representation)\n",
    "\n",
    "print(x << 2) #output 101000 in binary\n",
    "\n",
    "print(x >> 2) #output 0010 in binary"
   ]
  },
  {
   "cell_type": "code",
   "execution_count": null,
   "id": "cc8676c3-32e8-42c9-b853-be82bb3accda",
   "metadata": {},
   "outputs": [],
   "source": []
  }
 ],
 "metadata": {
  "kernelspec": {
   "display_name": "Python [conda env:base] *",
   "language": "python",
   "name": "conda-base-py"
  },
  "language_info": {
   "codemirror_mode": {
    "name": "ipython",
    "version": 3
   },
   "file_extension": ".py",
   "mimetype": "text/x-python",
   "name": "python",
   "nbconvert_exporter": "python",
   "pygments_lexer": "ipython3",
   "version": "3.12.7"
  }
 },
 "nbformat": 4,
 "nbformat_minor": 5
}
