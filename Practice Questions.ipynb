{
 "cells": [
  {
   "cell_type": "code",
   "execution_count": 5,
   "id": "9385839c-b738-40f1-9aa9-4ba055cfb67a",
   "metadata": {},
   "outputs": [
    {
     "name": "stdin",
     "output_type": "stream",
     "text": [
      "Enter a number to check if it is a odd or even one 156264665\n"
     ]
    },
    {
     "name": "stdout",
     "output_type": "stream",
     "text": [
      "The number 156264665 is odd\n"
     ]
    }
   ],
   "source": [
    "#1-WAP that checks if a number is even or odd\n",
    "\n",
    "num = int(input('Enter a number to check if it is a odd or even one'))\n",
    "if num % 2 == 0:\n",
    "    print(f'The number {num} is even')\n",
    "else:\n",
    "    print(f'The number {num} is odd')"
   ]
  },
  {
   "cell_type": "code",
   "execution_count": 11,
   "id": "93955044-7c70-4dad-87d2-8e4aed5c4836",
   "metadata": {},
   "outputs": [
    {
     "name": "stdin",
     "output_type": "stream",
     "text": [
      "Enter the first number:  5\n",
      "Enter the second number:  9\n",
      "Enter the third number:  2\n"
     ]
    },
    {
     "name": "stdout",
     "output_type": "stream",
     "text": [
      "The largest number is 9\n"
     ]
    }
   ],
   "source": [
    "#2-WAP that given three numbers, find the largest among them\n",
    "\n",
    "num1 = int(input('Enter the first number: '))\n",
    "num2 = int(input('Enter the second number: '))\n",
    "num3 = int(input('Enter the third number: '))\n",
    "\n",
    "if num1 > num2:\n",
    "    if num1 > num3:\n",
    "        print(f'The largest number is {num1}')\n",
    "    else:\n",
    "        print(f'The largest number is {num3}')\n",
    "else:\n",
    "    if num2 > num3:\n",
    "        print(f'The largest number is {num2}')\n",
    "    else:\n",
    "        print(f'The largest number is {num3}')\n"
   ]
  },
  {
   "cell_type": "code",
   "execution_count": 17,
   "id": "c565a548-7f5e-4a71-95bb-2fa3c70ed1fd",
   "metadata": {},
   "outputs": [
    {
     "name": "stdin",
     "output_type": "stream",
     "text": [
      "Enter the Year:  2024\n"
     ]
    },
    {
     "name": "stdout",
     "output_type": "stream",
     "text": [
      "2024 is a Leap Year!\n"
     ]
    }
   ],
   "source": [
    "#3-WAP that takes a year as input and detrmines if it's a leap year\n",
    "\n",
    "year = int(input(\"Enter the Year: \"))\n",
    "\n",
    "if (year % 4 == 0 and year % 100 != 0) or (year % 400 == 0):\n",
    "    print(f\"{year} is a Leap Year!\")\n",
    "else:\n",
    "    print(f\"{year} is not a Leap Year!\")\n",
    "    "
   ]
  },
  {
   "cell_type": "code",
   "execution_count": 27,
   "id": "b77e02f9-3208-49b5-b672-e69e7cca83f9",
   "metadata": {},
   "outputs": [
    {
     "name": "stdin",
     "output_type": "stream",
     "text": [
      "Enter your age:  18\n"
     ]
    },
    {
     "name": "stdout",
     "output_type": "stream",
     "text": [
      "You are eligible for voting as you are 18 years old\n"
     ]
    }
   ],
   "source": [
    "#4-WAP Ask the user to enter their age and check if they are eligible to vote (age >= 18)\n",
    "\n",
    "age =int(input('Enter your age: '))\n",
    "\n",
    "if age >= 18:\n",
    "    print(f'You are eligible for voting as you are {age} years old')\n",
    "else:\n",
    "    print(f'You are not eligible for voting as you are only {age} years old')"
   ]
  },
  {
   "cell_type": "code",
   "execution_count": 41,
   "id": "8e0390b9-4d3c-4365-a0a2-a3f37557c8be",
   "metadata": {},
   "outputs": [
    {
     "name": "stdin",
     "output_type": "stream",
     "text": [
      "Enter the temperature in Celsius:  35\n"
     ]
    },
    {
     "name": "stdout",
     "output_type": "stream",
     "text": [
      "35 degrees Celsius is hot!\n"
     ]
    }
   ],
   "source": [
    "#5-WAP that takes a temperature in Celsius and categorizes it as cold (<15°C), moderate (15-30°C), or hot (>30°C).\n",
    "\n",
    "temp = int(input('Enter the temperature in Celsius: '))\n",
    "\n",
    "if temp < 15:\n",
    "    print(f'{temp} degrees Celsius is cold!')\n",
    "elif (temp > 15) and (temp < 30):\n",
    "    print(f'{temp} degrees Celsius is moderate!')\n",
    "else:\n",
    "    print(f'{temp} degrees Celsius is hot!')\n",
    "    \n",
    "\n"
   ]
  },
  {
   "cell_type": "code",
   "execution_count": 57,
   "id": "3bea530d-5390-447e-87bd-da6220e690ac",
   "metadata": {},
   "outputs": [
    {
     "name": "stdout",
     "output_type": "stream",
     "text": [
      "2 4 6 8 10 12 14 16 18 20 22 24 26 28 30 32 34 36 38 40 42 44 46 48 50 "
     ]
    }
   ],
   "source": [
    "#6-WAP to Print all even numbers from 1 to 50 using a for loop\n",
    "\n",
    "for num in range(1,51):\n",
    "    if num % 2 == 0:\n",
    "        print(num, end=\" \")\n",
    "    else:\n",
    "        print('', end=\"\")\n",
    "\n"
   ]
  },
  {
   "cell_type": "code",
   "execution_count": 63,
   "id": "2d477b31-5901-409d-a1f2-010666401507",
   "metadata": {},
   "outputs": [
    {
     "name": "stdin",
     "output_type": "stream",
     "text": [
      "Enter a number:  25\n"
     ]
    },
    {
     "name": "stdout",
     "output_type": "stream",
     "text": [
      "25 50 75 100 125 150 175 200 225 250 "
     ]
    }
   ],
   "source": [
    "#7-WAP that takes a number as input and prints its multiplication table (1-10).\n",
    "\n",
    "num = int(input('Enter a number: '))\n",
    "\n",
    "for n in range(1,11):\n",
    "    print(num * n, end=\" \")\n",
    "\n",
    "\n",
    "\n"
   ]
  },
  {
   "cell_type": "code",
   "execution_count": 89,
   "id": "1ad13e94-f3e5-4c3f-979d-45d0152c8410",
   "metadata": {},
   "outputs": [
    {
     "name": "stdin",
     "output_type": "stream",
     "text": [
      "Enter a number:  100\n"
     ]
    },
    {
     "name": "stdout",
     "output_type": "stream",
     "text": [
      "1 3 6 10 15 21 28 36 45 55 66 78 91 105 120 136 153 171 190 210 231 253 276 300 325 351 378 406 435 465 496 528 561 595 630 666 703 741 780 820 861 903 946 990 1035 1081 1128 1176 1225 1275 1326 1378 1431 1485 1540 1596 1653 1711 1770 1830 1891 1953 2016 2080 2145 2211 2278 2346 2415 2485 2556 2628 2701 2775 2850 2926 3003 3081 3160 3240 3321 3403 3486 3570 3655 3741 3828 3916 4005 4095 4186 4278 4371 4465 4560 4656 4753 4851 4950 5050 "
     ]
    }
   ],
   "source": [
    "#8-WAP that calculates the sum of numbers from 1 to N, where N is input by the user.\n",
    "\n",
    "num = int(input('Enter a number: '))\n",
    "total = 0\n",
    "for n in range(1, num + 1):\n",
    "    total += n \n",
    "    print(total, end=\" \")\n",
    "  \n",
    "\n",
    "\n"
   ]
  },
  {
   "cell_type": "code",
   "execution_count": 14,
   "id": "4ab783c2-5d1e-4164-a2f2-c1c9cb9f4c7d",
   "metadata": {},
   "outputs": [
    {
     "name": "stdin",
     "output_type": "stream",
     "text": [
      "Enter a number: \n",
      " To exit type -1 2\n",
      "Enter a number: \n",
      " To exit type -1 3\n",
      "Enter a number: \n",
      " To exit type -1 6\n",
      "Enter a number: \n",
      " To exit type -1 9\n",
      "Enter a number: \n",
      " To exit type -1 -1\n"
     ]
    },
    {
     "name": "stdout",
     "output_type": "stream",
     "text": [
      "The sum of all numbers entered is 20\n"
     ]
    }
   ],
   "source": [
    "#9-WAP Ask the user to enter numbers until they enter -1, then print the sum of all numbers entered.\n",
    "total = 0\n",
    "while True:\n",
    "    num = int(input('Enter a number: \\n To exit type -1'))\n",
    "    if num == -1:\n",
    "        break\n",
    "    total += num\n",
    "\n",
    "print(f'The sum of all numbers entered is {total}')\n",
    "\n",
    "\n",
    "\n",
    "\n",
    "\n"
   ]
  },
  {
   "cell_type": "code",
   "execution_count": 22,
   "id": "4605c705-8516-41ab-b2ec-d5db8969b7a8",
   "metadata": {},
   "outputs": [
    {
     "name": "stdin",
     "output_type": "stream",
     "text": [
      "Enter the number of terms:  10\n"
     ]
    },
    {
     "name": "stdout",
     "output_type": "stream",
     "text": [
      "0 1 1 2 3 5 8 13 21 34 "
     ]
    }
   ],
   "source": [
    "# Print the Fibonacci series up to N terms, where N is given by the user\n",
    "num = int(input('Enter the number of terms: '))\n",
    "a,b = 0, 1\n",
    "\n",
    "for _ in range(num):\n",
    "    print(a, end=\" \")\n",
    "    a, b = b, a + b\n"
   ]
  },
  {
   "cell_type": "code",
   "execution_count": 26,
   "id": "62ff32fb-5cf9-4a17-8f05-2150d6f88f3b",
   "metadata": {},
   "outputs": [
    {
     "name": "stdin",
     "output_type": "stream",
     "text": [
      "Enter username:  kellynha\n",
      "Enter password:  1236\n"
     ]
    },
    {
     "name": "stdout",
     "output_type": "stream",
     "text": [
      "Incorrect login. You have 2 attempt(s) left.\n"
     ]
    },
    {
     "name": "stdin",
     "output_type": "stream",
     "text": [
      "Enter username:  kellynha\n",
      "Enter password:  1234\n"
     ]
    },
    {
     "name": "stdout",
     "output_type": "stream",
     "text": [
      "Login Successful! Access Granted.\n"
     ]
    }
   ],
   "source": [
    "# Create a simple login system where a user gets three attempts to enter the correct password. If they fail, print \"Access Denied\"\n",
    "\n",
    "correct_username = 'kellynha'\n",
    "correct_password = '1234'\n",
    "attempts = 3  \n",
    "\n",
    "for i in range(attempts):\n",
    "    username = input('Enter username: ')  \n",
    "    password = input('Enter password: ')  \n",
    "\n",
    "    if username == correct_username and password == correct_password: \n",
    "        print('Login Successful! Access Granted.')\n",
    "        break  \n",
    "    else:\n",
    "        remaining_attempts = attempts - (i + 1)  \n",
    "        if remaining_attempts > 0:\n",
    "            print(f\"Incorrect login. You have {remaining_attempts} attempt(s) left.\")\n",
    "        else:\n",
    "            print('Access Denied')  \n",
    "\n"
   ]
  },
  {
   "cell_type": "code",
   "execution_count": 30,
   "id": "9d1d3e89-7544-4b2d-8e67-7a90044ec2d1",
   "metadata": {},
   "outputs": [
    {
     "name": "stdout",
     "output_type": "stream",
     "text": [
      "2 3 5 7 11 13 17 19 23 29 31 37 41 43 47 53 59 61 67 71 73 79 83 89 97 "
     ]
    }
   ],
   "source": [
    "#Find all prime numbers between 1 and 100 using loops.\n",
    "\n",
    "for num in range(2, 101): \n",
    "    is_prime = True \n",
    "\n",
    "    for i in range(2, int(num ** 0.5) + 1): \n",
    "        if num % i == 0:  \n",
    "            is_prime = False\n",
    "            break  \n",
    "\n",
    "    if is_prime:  \n",
    "        print(num, end=\" \")\n",
    "    \n",
    "\n"
   ]
  },
  {
   "cell_type": "code",
   "execution_count": 40,
   "id": "71034bef-21e7-4776-a38d-28c243ed4b21",
   "metadata": {},
   "outputs": [
    {
     "name": "stdin",
     "output_type": "stream",
     "text": [
      "Enter a number:  1234\n"
     ]
    },
    {
     "name": "stdout",
     "output_type": "stream",
     "text": [
      "4\n"
     ]
    }
   ],
   "source": [
    "# Write a program to count the number of digits in a number (e.g., input: 12345, output: 5).\n",
    "import math\n",
    "num = int(input('Enter a number: '))\n",
    "\n",
    "count = int(math.log10(num)) + 1\n",
    "\n",
    "print(count)\n",
    "\n"
   ]
  },
  {
   "cell_type": "code",
   "execution_count": 54,
   "id": "5bb5735b-a014-4217-984f-84d8441bd099",
   "metadata": {},
   "outputs": [
    {
     "name": "stdin",
     "output_type": "stream",
     "text": [
      "Enter a number:  jkl\n"
     ]
    },
    {
     "name": "stdout",
     "output_type": "stream",
     "text": [
      "Invalid input! Please enter a numeric value.\n"
     ]
    },
    {
     "name": "stdin",
     "output_type": "stream",
     "text": [
      "Enter a number:  123\n"
     ]
    },
    {
     "name": "stdout",
     "output_type": "stream",
     "text": [
      "You entered the number 123.0\n"
     ]
    }
   ],
   "source": [
    "# Write a program that asks for a number and catches any errors if the user enters a nonnumeric value.\n",
    "\n",
    "while True:\n",
    "    try:\n",
    "        num = float(input('Enter a number: ')) \n",
    "        print(f'You entered the number {num}')\n",
    "        break \n",
    "    except ValueError:\n",
    "        print('Invalid input! Please enter a numeric value.') \n",
    "\n"
   ]
  },
  {
   "cell_type": "code",
   "execution_count": 58,
   "id": "b3abface-afd3-46d3-8d82-ca28fee37471",
   "metadata": {},
   "outputs": [
    {
     "name": "stdin",
     "output_type": "stream",
     "text": [
      "Enter the numerator:  2\n",
      "Enter the denominator:  0\n"
     ]
    },
    {
     "name": "stdout",
     "output_type": "stream",
     "text": [
      "Error: Division by zero is not allowed. Please enter a nonzero denominator.\n"
     ]
    },
    {
     "name": "stdin",
     "output_type": "stream",
     "text": [
      "Enter the numerator:  2\n",
      "Enter the denominator:  3\n"
     ]
    },
    {
     "name": "stdout",
     "output_type": "stream",
     "text": [
      "Result: 0.6666666666666666\n"
     ]
    }
   ],
   "source": [
    "# Modify the division program to handle ZeroDivisionError and display a proper message instead of crashing.\n",
    "\n",
    "while True:\n",
    "    try:\n",
    "        num1 = float(input(\"Enter the numerator: \"))\n",
    "        num2 = float(input(\"Enter the denominator: \"))\n",
    "        \n",
    "        result = num1 / num2  \n",
    "        print(f\"Result: {result}\")\n",
    "        break  \n",
    "        \n",
    "    except ZeroDivisionError:\n",
    "        print(\"Error: Division by zero is not allowed. Please enter a nonzero denominator.\")\n",
    "    except ValueError:\n",
    "        print(\"Invalid input! Please enter numeric values.\")\n",
    "\n",
    "\n",
    "\n"
   ]
  },
  {
   "cell_type": "code",
   "execution_count": 64,
   "id": "6404b8d4-50b8-4017-aee9-32b8cb5e06f8",
   "metadata": {},
   "outputs": [
    {
     "name": "stdout",
     "output_type": "stream",
     "text": [
      "1 2 Fizz 4 5 Fizz 7 8 Fizz 10 11 Fizz 13 14 Fizz 16 17 Fizz 19 20 Fizz 22 23 Fizz 25 26 Fizz 28 29 Fizz 31 32 Fizz 34 35 Fizz 37 38 Fizz 40 41 Fizz 43 44 Fizz 46 47 Fizz 49 50 "
     ]
    }
   ],
   "source": [
    "# FizzBuzz: Print number from 1 to 50 but if a number is divisible by 3, print \"fizz\"\n",
    "\n",
    "for num in range(1, 51):\n",
    "    if num % 3 == 0:\n",
    "        print('Fizz', end=' ')\n",
    "    else:\n",
    "        print(f'{num} ' , end='')\n",
    "        \n",
    "\n",
    "\n",
    "\n"
   ]
  },
  {
   "cell_type": "code",
   "execution_count": 66,
   "id": "a72827bf-e58c-4363-9216-7276fd96b3fe",
   "metadata": {},
   "outputs": [
    {
     "name": "stdout",
     "output_type": "stream",
     "text": [
      "1 2 3 4 Fizz 6 7 8 9 Fizz 11 12 13 14 Fizz 16 17 18 19 Fizz 21 22 23 24 Fizz 26 27 28 29 Fizz 31 32 33 34 Fizz 36 37 38 39 Fizz 41 42 43 44 Fizz 46 47 48 49 Fizz "
     ]
    }
   ],
   "source": [
    "# FizzBuzz: Print number from 1 to 50 but if a number is divisible by 5, print \"fizz\"\n",
    "\n",
    "for num in range(1, 51):\n",
    "    if num % 5 == 0:\n",
    "        print('Fizz', end=' ')\n",
    "    else:\n",
    "        print(f'{num} ' , end='')"
   ]
  },
  {
   "cell_type": "code",
   "execution_count": 72,
   "id": "a9d1cde2-0a28-4c0d-8e13-2188c7059d39",
   "metadata": {},
   "outputs": [
    {
     "name": "stdout",
     "output_type": "stream",
     "text": [
      "1 2 Fizz 4 Fizz Fizz 7 8 Fizz Fizz 11 Fizz 13 14 Fizz 16 17 Fizz 19 Fizz Fizz 22 23 Fizz Fizz 26 Fizz 28 29 Fizz 31 32 Fizz 34 Fizz Fizz 37 38 Fizz Fizz 41 Fizz 43 44 Fizz 46 47 Fizz 49 Fizz "
     ]
    }
   ],
   "source": [
    "# FizzBuzz: Print number from 1 to 50 but if a number is divisible by 3 and 5, print \"fizz\"\n",
    "\n",
    "for num in range(1, 51):\n",
    "    if num % 3 == 0 or num % 5 == 0:\n",
    "        print('Fizz', end=' ')\n",
    "    else:\n",
    "        print(f'{num} ' , end='')"
   ]
  },
  {
   "cell_type": "code",
   "execution_count": null,
   "id": "453eb9bd-f2dc-425f-9c01-226b1930f70e",
   "metadata": {},
   "outputs": [],
   "source": []
  }
 ],
 "metadata": {
  "kernelspec": {
   "display_name": "Python [conda env:base] *",
   "language": "python",
   "name": "conda-base-py"
  },
  "language_info": {
   "codemirror_mode": {
    "name": "ipython",
    "version": 3
   },
   "file_extension": ".py",
   "mimetype": "text/x-python",
   "name": "python",
   "nbconvert_exporter": "python",
   "pygments_lexer": "ipython3",
   "version": "3.12.7"
  }
 },
 "nbformat": 4,
 "nbformat_minor": 5
}
