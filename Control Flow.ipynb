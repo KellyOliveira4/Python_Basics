{
 "cells": [
  {
   "cell_type": "code",
   "execution_count": 2,
   "id": "d0115815-b0d5-4c35-840b-05edf90a5f9a",
   "metadata": {},
   "outputs": [],
   "source": [
    "#Control Flow -Orders of Informations, Instructions or Functions - Executed or Evaluated - Help with decision making\n",
    "\n",
    "# 1 Conditional Statement -if - if-Else -if-Elif-Else\n",
    "# 2 Iterative Statement - For - While Loop\n",
    "# 3 Break 4 Continue 5 Pass 6 Exception and Handling\n",
    "\n"
   ]
  },
  {
   "cell_type": "code",
   "execution_count": 14,
   "id": "61e129fe-c3d4-4f59-ada7-839674a04a85",
   "metadata": {},
   "outputs": [
    {
     "name": "stdin",
     "output_type": "stream",
     "text": [
      "Enter the first number 8\n",
      "Enter the second number 5\n"
     ]
    },
    {
     "name": "stdout",
     "output_type": "stream",
     "text": [
      "8 is greater than 5\n"
     ]
    }
   ],
   "source": [
    "# WAP to take two numbers from the user and print the largest\n",
    "\n",
    "n1 = int(input(\"Enter the first number\"))\n",
    "n2 = int(input(\"Enter the second number\"))\n",
    "\n",
    "if n1 > n2:\n",
    "    print(f\"{n1} is greater than {n2}\")\n",
    "elif n2 > n1:\n",
    "    print(f\"{n2} is greater than {n1}\")\n",
    "\n",
    "else:\n",
    "    print(f\"{n1} and {n2} both are equal\")"
   ]
  },
  {
   "cell_type": "code",
   "execution_count": 26,
   "id": "2f2831ed-d729-4652-95fc-c24975f1e1cb",
   "metadata": {},
   "outputs": [
    {
     "name": "stdin",
     "output_type": "stream",
     "text": [
      "Enter the student's final marks:  55\n"
     ]
    },
    {
     "name": "stdout",
     "output_type": "stream",
     "text": [
      "The Student got 55 it is a F\n"
     ]
    }
   ],
   "source": [
    "# WAP to assign grades according to the student's final marks. >=90:A, >=80:B, >=70:C, >=60:D, <60: F\n",
    "\n",
    "marks = int(input(\"Enter the student's final marks: \"))\n",
    "\n",
    "if marks >= 90:\n",
    "    print(f\"The Student got {marks} it is an A\")\n",
    "elif marks >= 80:\n",
    "    print(f\"The Student got {marks} it is a B\")\n",
    "elif marks >= 70:\n",
    "    print(f\"The Student got {marks} it is a C\")\n",
    "elif marks >= 60:\n",
    "    print(f\"The Student got {marks} it is a D\")\n",
    "else:\n",
    "    print(f\"The Student got {marks} it is a F\")\n"
   ]
  },
  {
   "cell_type": "code",
   "execution_count": 36,
   "id": "76861b1a-8592-4335-bbad-c3b7bd2a7451",
   "metadata": {},
   "outputs": [
    {
     "name": "stdin",
     "output_type": "stream",
     "text": [
      "Enter the Year:  2024\n"
     ]
    },
    {
     "name": "stdout",
     "output_type": "stream",
     "text": [
      "2024 is a Leap Year!\n"
     ]
    }
   ],
   "source": [
    "#WAP to check if the given year is a leap yeear.\n",
    "\n",
    "year = int(input(\"Enter the Year: \"))\n",
    "\n",
    "if (year % 4 == 0 and year % 100 != 0) or (year % 400 == 0):\n",
    "    print(f\"{year} is a Leap Year!\")\n",
    "else:\n",
    "    print(f\"{year} is not a Leap Year!\")"
   ]
  },
  {
   "cell_type": "code",
   "execution_count": 7,
   "id": "07770cee-da7d-48bb-ae57-8534fc8381d2",
   "metadata": {},
   "outputs": [
    {
     "name": "stdin",
     "output_type": "stream",
     "text": [
      "Enter a number:  123\n"
     ]
    },
    {
     "name": "stdout",
     "output_type": "stream",
     "text": [
      "The 123 is not polindrome, because the reverse is 321!\n"
     ]
    }
   ],
   "source": [
    "#WAP to print the palindrome of a given number\n",
    "\n",
    "num = int(input(\"Enter a number: \"))\n",
    "\n",
    "if str(num) == str(num)[::-1]:\n",
    "    print(f\"The {num} is polindrome!\")\n",
    "else:\n",
    "    print(f\"The {num} is not polindrome, because the reverse is {str(num)[::-1]}!\")\n"
   ]
  },
  {
   "cell_type": "code",
   "execution_count": 21,
   "id": "15fae02e-5a88-4db1-8b36-099fc70cf327",
   "metadata": {},
   "outputs": [
    {
     "name": "stdin",
     "output_type": "stream",
     "text": [
      "Let's see if you are eligible to vote! \n",
      "How old are you?  16\n",
      "Are you an US citizen? (yes/no):  yes\n"
     ]
    },
    {
     "name": "stdout",
     "output_type": "stream",
     "text": [
      "I am sorry you are not eligible to vote.\n"
     ]
    }
   ],
   "source": [
    "#WAP to check if the person is eligible to vote or not\n",
    "\n",
    "age = int(input(\"Let's see if you are eligible to vote! \\nHow old are you? \"))\n",
    "citizen = input(\"Are you an US citizen? (yes/no): \")\n",
    "\n",
    "if age >= 18 and citizen == \"yes\":\n",
    "    print(\"Congratulations! You are eligible to vote.\")\n",
    "else:\n",
    "    print(\"I am sorry you are not eligible to vote.\")"
   ]
  },
  {
   "cell_type": "code",
   "execution_count": null,
   "id": "de492b85-3690-4f16-b512-16ce8d69381e",
   "metadata": {},
   "outputs": [],
   "source": []
  }
 ],
 "metadata": {
  "kernelspec": {
   "display_name": "Python [conda env:base] *",
   "language": "python",
   "name": "conda-base-py"
  },
  "language_info": {
   "codemirror_mode": {
    "name": "ipython",
    "version": 3
   },
   "file_extension": ".py",
   "mimetype": "text/x-python",
   "name": "python",
   "nbconvert_exporter": "python",
   "pygments_lexer": "ipython3",
   "version": "3.12.7"
  }
 },
 "nbformat": 4,
 "nbformat_minor": 5
}
